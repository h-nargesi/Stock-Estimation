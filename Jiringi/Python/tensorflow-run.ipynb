{
 "cells": [
  {
   "cell_type": "markdown",
   "metadata": {},
   "source": [
    "# Running tensorflow on Trade data\n",
    "\n",
    "## Reading data from database"
   ]
  },
  {
   "cell_type": "code",
   "execution_count": 4,
   "metadata": {},
   "outputs": [
    {
     "name": "stderr",
     "output_type": "stream",
     "text": [
      "c:\\Users\\HamedNa\\AppData\\Local\\Programs\\Python\\Python310\\lib\\site-packages\\pandas\\io\\sql.py:761: UserWarning: pandas only support SQLAlchemy connectable(engine/connection) ordatabase string URI or sqlite3 DBAPI2 connectionother DBAPI2 objects are not tested, please consider using SQLAlchemy\n",
      "  warnings.warn(\n"
     ]
    },
    {
     "data": {
      "text/plain": [
       "<AxesSubplot:xlabel='DateTimeEn'>"
      ]
     },
     "execution_count": 4,
     "metadata": {},
     "output_type": "execute_result"
    },
    {
     "data": {
      "image/png": "[encoded data removed]",
      "text/plain": [
       "<Figure size 432x288 with 1 Axes>"
      ]
     },
     "metadata": {
      "needs_background": "light"
     },
     "output_type": "display_data"
    }
   ],
   "source": [
    "import codes.handlers as hd\n",
    "\n",
    "rides = hd.ReadPanda('trade-graph', (19857, 500, 1000,))\n",
    "rides.plot(x='DateTimeEn', y='ClosePrice')"
   ]
  },
  {
   "cell_type": "markdown",
   "metadata": {},
   "source": [
    "### Reading data to file"
   ]
  },
  {
   "cell_type": "markdown",
   "metadata": {},
   "source": [
    "First , declareing the input and output data sizes:"
   ]
  },
  {
   "cell_type": "code",
   "execution_count": 5,
   "metadata": {},
   "outputs": [],
   "source": [
    "INPUT_SIZE = 300\n",
    "OUTPUT_SIZE = 10"
   ]
  },
  {
   "cell_type": "markdown",
   "metadata": {},
   "source": [
    "Second, reading data from databse and store it in local files"
   ]
  },
  {
   "cell_type": "code",
   "execution_count": 7,
   "metadata": {},
   "outputs": [
    {
     "name": "stdout",
     "output_type": "stream",
     "text": [
      "The data already have read.\n"
     ]
    }
   ],
   "source": [
    "import codes.trade as trade\n",
    "\n",
    "loader = trade.TradeReader(INPUT_SIZE, OUTPUT_SIZE, 280000)\n",
    "loader.ReadData(ignore_existing=False)"
   ]
  },
  {
   "cell_type": "markdown",
   "metadata": {},
   "source": [
    "## Creating the model"
   ]
  },
  {
   "cell_type": "code",
   "execution_count": 9,
   "metadata": {},
   "outputs": [
    {
     "name": "stdout",
     "output_type": "stream",
     "text": [
      "Model: \"logits\"\n",
      "_________________________________________________________________\n",
      " Layer (type)                Output Shape              Param #   \n",
      "=================================================================\n",
      " conv2d_3 (Conv2D)           (None, 146, 1, 3)         33        \n",
      "                                                                 \n",
      " dropout_4 (Dropout)         (None, 146, 1, 3)         0         \n",
      "                                                                 \n",
      " conv2d_4 (Conv2D)           (None, 137, 1, 6)         186       \n",
      "                                                                 \n",
      " dropout_5 (Dropout)         (None, 137, 1, 6)         0         \n",
      "                                                                 \n",
      " conv2d_5 (Conv2D)           (None, 133, 1, 9)         279       \n",
      "                                                                 \n",
      " dropout_6 (Dropout)         (None, 133, 1, 9)         0         \n",
      "                                                                 \n",
      " flatten_1 (Flatten)         (None, 1197)              0         \n",
      "                                                                 \n",
      " dense_2 (Dense)             (None, 60)                71880     \n",
      "                                                                 \n",
      " dropout_7 (Dropout)         (None, 60)                0         \n",
      "                                                                 \n",
      " dense_3 (Dense)             (None, 10)                610       \n",
      "                                                                 \n",
      "=================================================================\n",
      "Total params: 72,988\n",
      "Trainable params: 72,988\n",
      "Non-trainable params: 0\n",
      "_________________________________________________________________\n"
     ]
    }
   ],
   "source": [
    "import keras\n",
    "\n",
    "DROPOUPT_VALUE = 0.2\n",
    "\n",
    "model = keras.models.Sequential(name='logits')\n",
    "model.add(keras.Input(shape=(INPUT_SIZE, 1, 1)))\n",
    "\n",
    "model.add(keras.layers.Conv2D(3, (10, 1), strides=(2, 1), activation='gelu'))\n",
    "model.add(keras.layers.Dropout(DROPOUPT_VALUE))\n",
    "model.add(keras.layers.Conv2D(6, (10, 1), strides=(1, 1), activation='gelu'))\n",
    "model.add(keras.layers.Dropout(DROPOUPT_VALUE))\n",
    "model.add(keras.layers.Conv2D(9, (5, 1), strides=(1, 1), activation='gelu'))\n",
    "model.add(keras.layers.Dropout(DROPOUPT_VALUE))\n",
    "\n",
    "model.add(keras.layers.Flatten())\n",
    "\n",
    "model.add(keras.layers.Dense(60, activation=\"gelu\"))\n",
    "model.add(keras.layers.Dropout(DROPOUPT_VALUE))\n",
    "model.add(keras.layers.Dense(OUTPUT_SIZE, activation=\"sigmoid\"))\n",
    "\n",
    "model.compile(loss='categorical_crossentropy', optimizer='adam', \n",
    "              metrics=['accuracy'])\n",
    "\n",
    "model.summary()"
   ]
  },
  {
   "cell_type": "markdown",
   "metadata": {},
   "source": [
    "## Running tensorflow"
   ]
  },
  {
   "cell_type": "code",
   "execution_count": 12,
   "metadata": {},
   "outputs": [
    {
     "name": "stdout",
     "output_type": "stream",
     "text": [
      "Loading trade-x-3.npy\n",
      "Loading finished\n",
      "Loading trade-y-3.npy\n",
      "Loading finished\n",
      "x_training.shape: (250964100,)\n",
      "y_training.shape: (8365470,)\n"
     ]
    }
   ],
   "source": [
    "import codes.handlers as hd\n",
    "\n",
    "x_training = hd.LoadFile('trade-x', 4)\n",
    "y_training = hd.LoadFile('trade-y', 4)\n",
    "\n",
    "x_testing = hd.LoadFile('trade-x', 1, 4)\n",
    "y_testing = hd.LoadFile('trade-y', 1, 4)\n",
    "\n",
    "print(\"x_training.shape:\", x_training.shape)\n",
    "print(\"y_training.shape:\", y_training.shape)"
   ]
  },
  {
   "cell_type": "code",
   "execution_count": 11,
   "metadata": {},
   "outputs": [],
   "source": [
    "from keras.callbacks import ModelCheckpoint\n",
    "\n",
    "check_point_path = 'models/trade-2022-07-25'\n",
    "\n",
    "# train the model\n",
    "checkpointer = ModelCheckpoint(filepath=check_point_path, \n",
    "                               verbose=1, save_best_only=True)"
   ]
  },
  {
   "cell_type": "code",
   "execution_count": null,
   "metadata": {},
   "outputs": [],
   "source": [
    "hist = model.fit(x_training, y_training, batch_size=512, epochs=1,\n",
    "          validation_split=0.2, callbacks=[checkpointer],\n",
    "          verbose=0, shuffle=True)"
   ]
  }
 ],
 "metadata": {
  "kernelspec": {
   "display_name": "Python 3.10.5 64-bit",
   "language": "python",
   "name": "python3"
  },
  "language_info": {
   "codemirror_mode": {
    "name": "ipython",
    "version": 3
   },
   "file_extension": ".py",
   "mimetype": "text/x-python",
   "name": "python",
   "nbconvert_exporter": "python",
   "pygments_lexer": "ipython3",
   "version": "3.10.5"
  },
  "vscode": {
   "interpreter": {
    "hash": "76837c2a9e1c39b51df31c8025f848a4f62422ac3e982dcad6d252076e11c189"
   }
  }
 },
 "nbformat": 4,
 "nbformat_minor": 2
}
